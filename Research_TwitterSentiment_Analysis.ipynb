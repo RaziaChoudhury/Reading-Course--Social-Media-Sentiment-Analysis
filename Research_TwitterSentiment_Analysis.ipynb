{
 "cells": [
  {
   "cell_type": "code",
   "execution_count": 1,
   "metadata": {},
   "outputs": [],
   "source": [
    "import pandas as pd\n",
    "\n",
    "df = pd.read_csv(r\"D:\\Research Assistant\\Tweets\\merged_tweets.csv\")"
   ]
  },
  {
   "cell_type": "code",
   "execution_count": 2,
   "metadata": {},
   "outputs": [
    {
     "data": {
      "text/html": [
       "<div>\n",
       "<style scoped>\n",
       "    .dataframe tbody tr th:only-of-type {\n",
       "        vertical-align: middle;\n",
       "    }\n",
       "\n",
       "    .dataframe tbody tr th {\n",
       "        vertical-align: top;\n",
       "    }\n",
       "\n",
       "    .dataframe thead th {\n",
       "        text-align: right;\n",
       "    }\n",
       "</style>\n",
       "<table border=\"1\" class=\"dataframe\">\n",
       "  <thead>\n",
       "    <tr style=\"text-align: right;\">\n",
       "      <th></th>\n",
       "      <th>Unnamed: 0</th>\n",
       "      <th>Tweet</th>\n",
       "      <th>Username</th>\n",
       "    </tr>\n",
       "  </thead>\n",
       "  <tbody>\n",
       "    <tr>\n",
       "      <th>0</th>\n",
       "      <td>0</td>\n",
       "      <td>RT @1woo17: A gift from Jun for Valentine's Da...</td>\n",
       "      <td>PersephoneBasil</td>\n",
       "    </tr>\n",
       "    <tr>\n",
       "      <th>1</th>\n",
       "      <td>1</td>\n",
       "      <td>RT @miwon17_: Event for Valentines day in Chin...</td>\n",
       "      <td>PersephoneBasil</td>\n",
       "    </tr>\n",
       "    <tr>\n",
       "      <th>2</th>\n",
       "      <td>2</td>\n",
       "      <td>RT @mansehao: 🐱: Hello, I am Confession Delive...</td>\n",
       "      <td>PersephoneBasil</td>\n",
       "    </tr>\n",
       "    <tr>\n",
       "      <th>3</th>\n",
       "      <td>3</td>\n",
       "      <td>RT @tinkswonu: wonwoo and his own sound effect...</td>\n",
       "      <td>PersephoneBasil</td>\n",
       "    </tr>\n",
       "    <tr>\n",
       "      <th>4</th>\n",
       "      <td>4</td>\n",
       "      <td>RT @SVTGlobal: More info:\\n\\nThank you, CARAT!...</td>\n",
       "      <td>PersephoneBasil</td>\n",
       "    </tr>\n",
       "  </tbody>\n",
       "</table>\n",
       "</div>"
      ],
      "text/plain": [
       "   Unnamed: 0                                              Tweet  \\\n",
       "0           0  RT @1woo17: A gift from Jun for Valentine's Da...   \n",
       "1           1  RT @miwon17_: Event for Valentines day in Chin...   \n",
       "2           2  RT @mansehao: 🐱: Hello, I am Confession Delive...   \n",
       "3           3  RT @tinkswonu: wonwoo and his own sound effect...   \n",
       "4           4  RT @SVTGlobal: More info:\\n\\nThank you, CARAT!...   \n",
       "\n",
       "          Username  \n",
       "0  PersephoneBasil  \n",
       "1  PersephoneBasil  \n",
       "2  PersephoneBasil  \n",
       "3  PersephoneBasil  \n",
       "4  PersephoneBasil  "
      ]
     },
     "execution_count": 2,
     "metadata": {},
     "output_type": "execute_result"
    }
   ],
   "source": [
    "df.head()"
   ]
  },
  {
   "cell_type": "code",
   "execution_count": 3,
   "metadata": {},
   "outputs": [],
   "source": [
    "df = df.groupby('Username').agg({'Tweet': ' '.join}).reset_index()"
   ]
  },
  {
   "cell_type": "code",
   "execution_count": 4,
   "metadata": {},
   "outputs": [
    {
     "data": {
      "text/plain": [
       "(80, 2)"
      ]
     },
     "execution_count": 4,
     "metadata": {},
     "output_type": "execute_result"
    }
   ],
   "source": [
    "df.shape"
   ]
  },
  {
   "cell_type": "code",
   "execution_count": 5,
   "metadata": {},
   "outputs": [
    {
     "data": {
      "text/html": [
       "<div>\n",
       "<style scoped>\n",
       "    .dataframe tbody tr th:only-of-type {\n",
       "        vertical-align: middle;\n",
       "    }\n",
       "\n",
       "    .dataframe tbody tr th {\n",
       "        vertical-align: top;\n",
       "    }\n",
       "\n",
       "    .dataframe thead th {\n",
       "        text-align: right;\n",
       "    }\n",
       "</style>\n",
       "<table border=\"1\" class=\"dataframe\">\n",
       "  <thead>\n",
       "    <tr style=\"text-align: right;\">\n",
       "      <th></th>\n",
       "      <th>Username</th>\n",
       "      <th>Tweet</th>\n",
       "    </tr>\n",
       "  </thead>\n",
       "  <tbody>\n",
       "    <tr>\n",
       "      <th>0</th>\n",
       "      <td>AdrianaBriscoe</td>\n",
       "      <td>RT @ProfKori: This article on know-your-place ...</td>\n",
       "    </tr>\n",
       "    <tr>\n",
       "      <th>1</th>\n",
       "      <td>AlaaFSaqer</td>\n",
       "      <td>Growth in the mind of a product manager \\nhttp...</td>\n",
       "    </tr>\n",
       "    <tr>\n",
       "      <th>2</th>\n",
       "      <td>Ana_PM_Jesus</td>\n",
       "      <td>Gaza, tonight 💔 https://t.co/PJPbu8su8F True s...</td>\n",
       "    </tr>\n",
       "    <tr>\n",
       "      <th>3</th>\n",
       "      <td>BCNTalent</td>\n",
       "      <td>RT @juansotoivars: El pensamiento gregario de ...</td>\n",
       "    </tr>\n",
       "    <tr>\n",
       "      <th>4</th>\n",
       "      <td>BiologiaPensamt</td>\n",
       "      <td>RT @VDJournal: #Seed shape can provide valuabl...</td>\n",
       "    </tr>\n",
       "  </tbody>\n",
       "</table>\n",
       "</div>"
      ],
      "text/plain": [
       "          Username                                              Tweet\n",
       "0   AdrianaBriscoe  RT @ProfKori: This article on know-your-place ...\n",
       "1       AlaaFSaqer  Growth in the mind of a product manager \\nhttp...\n",
       "2     Ana_PM_Jesus  Gaza, tonight 💔 https://t.co/PJPbu8su8F True s...\n",
       "3        BCNTalent  RT @juansotoivars: El pensamiento gregario de ...\n",
       "4  BiologiaPensamt  RT @VDJournal: #Seed shape can provide valuabl..."
      ]
     },
     "execution_count": 5,
     "metadata": {},
     "output_type": "execute_result"
    }
   ],
   "source": [
    "df.head()"
   ]
  },
  {
   "cell_type": "code",
   "execution_count": 6,
   "metadata": {},
   "outputs": [],
   "source": [
    "# Cleaning the tweets\n",
    "import numpy as np\n",
    "import re\n",
    "def remove_pattern(input_txt, pattern):\n",
    "    try:\n",
    "        r = re.findall(pattern, input_txt)\n",
    "        #print(r)\n",
    "        for i in r:\n",
    "            input_txt = re.sub(i, '', input_txt)\n",
    "            #print(input_txt)\n",
    "        return input_txt\n",
    "    except:\n",
    "        print(\"An exception ocurred\")\n",
    "        \n",
    "def clean_tweets(tweets):\n",
    "    #remove twitter Return handles (RT @xxx:)\n",
    "    tweets = np.vectorize(remove_pattern)(tweets, \"RT @[\\w]*:\") \n",
    "    \n",
    "    #remove twitter handles (@xxx)\n",
    "    tweets = np.vectorize(remove_pattern)(tweets, \"@[\\w]*\")\n",
    "    \n",
    "    #remove URL links (httpxxx)\n",
    "    tweets = np.vectorize(remove_pattern)(tweets, \"https?://[A-Za-z0-9./]*\")\n",
    "    \n",
    "    #remove special characters, numbers, punctuations (except for #)\n",
    "    tweets = np.core.defchararray.replace(tweets, \"[^a-zA-Z]\", \" \")\n",
    "    \n",
    "    tweets = np.core.defchararray.replace(tweets, \"[A-Za-z0–9]+\", \" \")\n",
    "    \n",
    "    tweets = np.core.defchararray.replace(tweets, \"[⁰-9A-Za-z \\t]\", \" \")\n",
    "    \n",
    "    tweets = np.core.defchararray.replace(tweets, \"[\\w+:\\/\\/\\S+]\", \" \")\n",
    "    \n",
    "    return tweets"
   ]
  },
  {
   "cell_type": "code",
   "execution_count": null,
   "metadata": {},
   "outputs": [],
   "source": [
    "df['Tweet'] = clean_tweets(df['Tweet'])\n"
   ]
  },
  {
   "cell_type": "code",
   "execution_count": null,
   "metadata": {},
   "outputs": [],
   "source": [
    "df.head()"
   ]
  },
  {
   "cell_type": "code",
   "execution_count": null,
   "metadata": {},
   "outputs": [],
   "source": [
    "from vaderSentiment.vaderSentiment import SentimentIntensityAnalyzer\n",
    "analyser = SentimentIntensityAnalyzer()\n",
    "\n",
    "#Finding scores for tweets\n",
    "scores = []\n",
    "compound_score =[]\n",
    "positive_score= []\n",
    "negative_score= []\n",
    "neutral_score = []\n",
    "mod_df = df.loc[df['Tweet']]\n",
    "for i in range(modf_df.iloc[:5].shape[0]):\n",
    "    compound = analyser.polarity_scores(df['Tweet'][i])[\"compound\"]\n",
    "    pos = analyser.polarity_scores(df['Tweet'][i])[\"pos\"]\n",
    "    neg = analyser.polarity_scores(df['Tweet'][i])[\"neg\"]\n",
    "    neu = analyser.polarity_scores(df['Tweet'][i])[\"neu\"]\n",
    "    positive_score.append(pos)\n",
    "    scores.append({\"Compound\": compound, \"Positive\": pos, \"Negative\": neg, \"Neutral\": neu})\n",
    "    \n"
   ]
  },
  {
   "cell_type": "code",
   "execution_count": null,
   "metadata": {},
   "outputs": [],
   "source": [
    "sentiments_score = pd.DataFrame.from_dict(scores)\n",
    "df = df.join(sentiments_score)\n",
    "df.head()"
   ]
  },
  {
   "cell_type": "code",
   "execution_count": null,
   "metadata": {},
   "outputs": [],
   "source": [
    "## Function for labelling the data to postive or negative reviews\n",
    "from tqdm import tqdm\n",
    "def label_data1(dataset):\n",
    "    label_data = {\"Label\": []}\n",
    "    \n",
    "    for i in tqdm(dataset[\"Compound\"]):\n",
    "        if (i < 0):\n",
    "            label_data[\"Label\"].append(\"Negative\")\n",
    "        else:\n",
    "            label_data[\"Label\"].append(\"Positive\")\n",
    "    \n",
    "    data_label = pd.DataFrame(label_data)\n",
    "    dataset = pd.concat([dataset,data_label], axis = 1)\n",
    "    \n",
    "    return(dataset)\n",
    "\n",
    "dataset_tweet_vader= label_data1(df)\n",
    "print(dataset_tweet_vader)\n",
    "\n"
   ]
  },
  {
   "cell_type": "code",
   "execution_count": null,
   "metadata": {},
   "outputs": [],
   "source": [
    "dataset_tweet_vader[\"Label\"].value_counts().plot(kind = 'bar')\n",
    "print(dataset_tweet_vader[\"Label\"].value_counts())"
   ]
  }
 ],
 "metadata": {
  "kernelspec": {
   "display_name": "Python 3",
   "language": "python",
   "name": "python3"
  },
  "language_info": {
   "codemirror_mode": {
    "name": "ipython",
    "version": 3
   },
   "file_extension": ".py",
   "mimetype": "text/x-python",
   "name": "python",
   "nbconvert_exporter": "python",
   "pygments_lexer": "ipython3",
   "version": "3.7.6"
  }
 },
 "nbformat": 4,
 "nbformat_minor": 4
}
